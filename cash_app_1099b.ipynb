{
 "cells": [
  {
   "cell_type": "code",
   "execution_count": 11,
   "id": "947bedf4-8610-4ffb-a591-e6f820e131ab",
   "metadata": {
    "tags": []
   },
   "outputs": [],
   "source": [
    "import pandas as pd\n",
    "import os\n",
    "from selenium import webdriver\n",
    "from selenium.webdriver.common.by import By\n",
    "from selenium.webdriver.support.ui import Select\n",
    "from selenium.webdriver.chrome.options import Options\n",
    "from selenium.webdriver.chrome.service import Service\n",
    "\n",
    "options = Options()\n",
    "# set the path to the actual Chrome Application\n",
    "options.binary_location = \"C:/Program Files (x86)/Google/Chrome Beta/Application/chrome.exe\"\n",
    "# download the relevant Chrome driver:\n",
    "# https://chromedriver.chromium.org/downloads\n",
    "# specify the path to the driver\n",
    "driver = webdriver.Chrome(service = Service(\"C:/Users/donne/Documents/chromedriver-win64/chromedriver.exe\"), options=options)"
   ]
  },
  {
   "cell_type": "code",
   "execution_count": 12,
   "id": "e9cfc3e3-211b-4d94-a13d-818656ca94d3",
   "metadata": {
    "tags": []
   },
   "outputs": [],
   "source": [
    "# navigate to Cash App Taxes and sign in manually\n",
    "driver.get(\"https://taxes.cash.app/r/dashboard\")"
   ]
  },
  {
   "cell_type": "code",
   "execution_count": 13,
   "id": "38aadce1-cc0f-42d6-ab4c-42f6b05f4e33",
   "metadata": {
    "tags": []
   },
   "outputs": [],
   "source": [
    "# navigate to Capital Gains input (form 1099 B)\n",
    "driver.get(\"https://taxes.cash.app/taxes/CapitalGains.action\")\n",
    "\n",
    "# select spreadsheet option then continue\n",
    "driver.find_element(By.ID, \"sales-type-3\").click()\n",
    "driver.find_element(By.NAME, \"continue\").click()"
   ]
  },
  {
   "cell_type": "code",
   "execution_count": 14,
   "id": "3d28c256-7391-4671-a440-5519b40feafc",
   "metadata": {
    "tags": []
   },
   "outputs": [],
   "source": [
    "def import_trades(csv):\n",
    "    path = csv.replace(os.sep, '/')\n",
    "    trades = pd.read_csv(path)\n",
    "    \n",
    "    # Define the required columns\n",
    "    required_columns = ['Description', 'DtAcq', 'DtSold', 'Proceeds', 'Cost', 'Type', 'Code', 'Covered']\n",
    "\n",
    "    # Check if each required column is present in the DataFrame\n",
    "    for col in required_columns:\n",
    "        assert col in trades.columns, f\"Error: missing required column '{col}'\"\n",
    "    \n",
    "    return trades"
   ]
  },
  {
   "cell_type": "code",
   "execution_count": 45,
   "id": "fa283085-3b0b-41c8-9576-f900ace70e28",
   "metadata": {
    "tags": []
   },
   "outputs": [],
   "source": [
    "def input_trades(df):\n",
    "    for i in range(len(df)):\n",
    "              \n",
    "        # increase rows as needed\n",
    "        nrow_need = len(df)\n",
    "        table = driver.find_element(By.ID, 'capitalGainsTable')\n",
    "        while True:\n",
    "            # determine the number of rows the current table has\n",
    "            rows = table.find_elements(By.TAG_NAME, 'tr')\n",
    "            nrow_curr = len(rows) - 2 # rm for header and total row\n",
    "            if nrow_need < nrow_curr:\n",
    "                break\n",
    "            # Find the addRows button to scroll to\n",
    "            # it's not clickable unless it's in view\n",
    "            addRows = driver.find_element(By.ID, 'addRows')\n",
    "\n",
    "            # Scroll to addRows and click\n",
    "            driver.execute_script(\"arguments[0].scrollIntoView();\", addRows)\n",
    "            addRows.click()\n",
    "        \n",
    "        # input the sale category\n",
    "        box = df.loc[i, \"Code\"]\n",
    "        trade_type = df.loc[i, \"Type\"].title()\n",
    "        is_covered = df.loc[i, \"Covered\"].lower()\n",
    "        if is_covered == \"uncovered\":\n",
    "            is_covered = \"not covered\"\n",
    "        el = Select(driver.find_element(By.NAME, f\"capitalGains[{i}].reportingCategory\"))\n",
    "        el.select_by_visible_text(f\"Box {box} - {trade_type} {is_covered}\")\n",
    "        \n",
    "        # enter the description\n",
    "        desc = df.loc[i, \"Description\"]\n",
    "        driver.find_element(By.NAME, f\"capitalGains[{i}].description\").clear()\n",
    "        driver.find_element(By.NAME, f\"capitalGains[{i}].description\").send_keys(desc)\n",
    "        \n",
    "        # enter acq and sell dates\n",
    "        acq = df.loc[i, \"DtAcq\"]\n",
    "        sold = df.loc[i, \"DtSold\"]\n",
    "        driver.find_element(By.NAME, f\"capitalGains[{i}].dateAcquired\").clear()\n",
    "        driver.find_element(By.NAME, f\"capitalGains[{i}].dateSold\").clear()\n",
    "        driver.find_element(By.NAME, f\"capitalGains[{i}].dateAcquired\").send_keys(acq)\n",
    "        driver.find_element(By.NAME, f\"capitalGains[{i}].dateSold\").send_keys(sold)\n",
    "        \n",
    "        # enter proceeds\n",
    "        proceeds = df.loc[i, \"Proceeds\"]\n",
    "        driver.find_element(By.NAME, f\"capitalGains[{i}].salesPrice\").clear()\n",
    "        driver.find_element(By.NAME, f\"capitalGains[{i}].salesPrice\").send_keys(proceeds)\n",
    "        \n",
    "        # enter cost basis\n",
    "        cost = df.loc[i, \"Cost\"]\n",
    "        driver.find_element(By.NAME, f\"capitalGains[{i}].cost\").clear()\n",
    "        driver.find_element(By.NAME, f\"capitalGains[{i}].cost\").send_keys(cost)"
   ]
  },
  {
   "cell_type": "code",
   "execution_count": 24,
   "id": "27f4a383-649d-4238-8051-710fc3a4a0ee",
   "metadata": {
    "tags": []
   },
   "outputs": [],
   "source": [
    "trades338 = import_trades(csv = \"C:\\\\Users\\\\donne\\\\Google Drive\\\\Finance\\\\Taxes\\\\2023\\\\x338_trades.csv\")\n",
    "trades454 = import_trades(csv = \"C:\\\\Users\\\\donne\\\\Google Drive\\\\Finance\\\\Taxes\\\\2023\\\\x454_trades.csv\")\n",
    "trades = pd.concat([trades338, trades454], ignore_index = True)"
   ]
  },
  {
   "cell_type": "code",
   "execution_count": null,
   "id": "36467bdb",
   "metadata": {},
   "outputs": [],
   "source": [
    "trades.info()\n",
    "trades.head()"
   ]
  },
  {
   "cell_type": "code",
   "execution_count": 46,
   "id": "4d99c782-69f8-47b2-9399-d95c30753626",
   "metadata": {},
   "outputs": [],
   "source": [
    "input_trades(trades)"
   ]
  },
  {
   "cell_type": "code",
   "execution_count": null,
   "id": "fab71487-5471-401b-a854-c7626167cd40",
   "metadata": {},
   "outputs": [],
   "source": [
    "trades.Proceeds.sum() - trades.Cost.sum()"
   ]
  },
  {
   "cell_type": "code",
   "execution_count": null,
   "id": "4cfdb97a",
   "metadata": {},
   "outputs": [],
   "source": []
  }
 ],
 "metadata": {
  "kernelspec": {
   "display_name": "Python 3 (ipykernel)",
   "language": "python",
   "name": "python3"
  },
  "language_info": {
   "codemirror_mode": {
    "name": "ipython",
    "version": 3
   },
   "file_extension": ".py",
   "mimetype": "text/x-python",
   "name": "python",
   "nbconvert_exporter": "python",
   "pygments_lexer": "ipython3",
   "version": "3.12.1"
  }
 },
 "nbformat": 4,
 "nbformat_minor": 5
}
